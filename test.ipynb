{
 "cells": [
  {
   "cell_type": "code",
   "execution_count": 1,
   "id": "2437c954",
   "metadata": {},
   "outputs": [
    {
     "name": "stderr",
     "output_type": "stream",
     "text": [
      "/home/lzt/miniconda3/lib/python3.13/site-packages/tqdm/auto.py:21: TqdmWarning: IProgress not found. Please update jupyter and ipywidgets. See https://ipywidgets.readthedocs.io/en/stable/user_install.html\n",
      "  from .autonotebook import tqdm as notebook_tqdm\n"
     ]
    }
   ],
   "source": [
    "from src.model import get_model, TransformerEncoder\n",
    "import torch\n",
    "from torchinfo import summary"
   ]
  },
  {
   "cell_type": "code",
   "execution_count": 4,
   "id": "3e58b42f",
   "metadata": {},
   "outputs": [],
   "source": [
    "spectral_params = {\n",
    "    'pool_type' : 'avg',\n",
    "    'seq_len' : 120\n",
    "}\n",
    "\n",
    "multiview_params = {\n",
    "    'output_dim' : 512\n",
    "}\n",
    "\n",
    "image_params = {\n",
    "    \n",
    "}\n",
    "\n",
    "model = get_model(\n",
    "    spectral_encoder_type = 'resnet1d',\n",
    "    image_encoder_type = 'multiview',\n",
    "    fusion_method = 'cross_attention',\n",
    "    output_dim = 1,\n",
    "    dropout = 0.3,\n",
    "    output_activation=None,\n",
    "    spectral_params = spectral_params,\n",
    "    image_params = image_params,\n",
    "    multiview_params=multiview_params\n",
    ")"
   ]
  },
  {
   "cell_type": "code",
   "execution_count": 5,
   "id": "e8ea3c8d",
   "metadata": {},
   "outputs": [
    {
     "name": "stdout",
     "output_type": "stream",
     "text": [
      "spectral_feat:  torch.Size([8, 512])\n",
      "image_feat:  torch.Size([8, 512])\n",
      "运行到这了\n"
     ]
    },
    {
     "data": {
      "text/plain": [
       "tensor([0.0453, 0.1420, 0.1827, 0.2347, 0.4028, 0.2129, 0.0915, 0.6816],\n",
       "       grad_fn=<SqueezeBackward1>)"
      ]
     },
     "execution_count": 5,
     "metadata": {},
     "output_type": "execute_result"
    }
   ],
   "source": [
    "batch = 8\n",
    "spec_c = 1\n",
    "spec_l = 120\n",
    "\n",
    "img_v = 2\n",
    "img_c = 3\n",
    "img_w = 224\n",
    "img_h = 224\n",
    "\n",
    "spectral = torch.zeros((batch, spec_c, spec_l))\n",
    "imgs = torch.zeros((batch, img_v, img_c, img_w, img_h))\n",
    "model(spectral = spectral, images = imgs)"
   ]
  },
  {
   "cell_type": "code",
   "execution_count": null,
   "id": "6fe97368",
   "metadata": {},
   "outputs": [
    {
     "data": {
      "text/plain": [
       "tensor([[ 0.5157, -0.7324, -0.3037,  ...,  0.9009,  0.0932,  0.6033],\n",
       "        [ 0.5157, -0.7324, -0.3037,  ...,  0.9009,  0.0932,  0.6033],\n",
       "        [ 0.5157, -0.7324, -0.3037,  ...,  0.9009,  0.0932,  0.6033],\n",
       "        ...,\n",
       "        [ 0.5157, -0.7324, -0.3037,  ...,  0.9009,  0.0932,  0.6033],\n",
       "        [ 0.5157, -0.7324, -0.3037,  ...,  0.9009,  0.0932,  0.6033],\n",
       "        [ 0.5157, -0.7324, -0.3037,  ...,  0.9009,  0.0932,  0.6033]],\n",
       "       grad_fn=<AddmmBackward0>)"
      ]
     },
     "execution_count": 4,
     "metadata": {},
     "output_type": "execute_result"
    }
   ],
   "source": [
    "model.image_encoder(imgs)"
   ]
  },
  {
   "cell_type": "code",
   "execution_count": 7,
   "id": "72c3f35f",
   "metadata": {},
   "outputs": [],
   "source": [
    "import pandas as pd"
   ]
  },
  {
   "cell_type": "code",
   "execution_count": 9,
   "id": "cf29073f",
   "metadata": {},
   "outputs": [],
   "source": [
    "data = pd.read_excel('data/spec.xlsx')"
   ]
  },
  {
   "cell_type": "code",
   "execution_count": 11,
   "id": "81bc6845",
   "metadata": {},
   "outputs": [],
   "source": [
    "from torch import functional as F"
   ]
  },
  {
   "cell_type": "code",
   "execution_count": null,
   "id": "7b0ef68a",
   "metadata": {},
   "outputs": [],
   "source": []
  }
 ],
 "metadata": {
  "kernelspec": {
   "display_name": "base",
   "language": "python",
   "name": "python3"
  },
  "language_info": {
   "codemirror_mode": {
    "name": "ipython",
    "version": 3
   },
   "file_extension": ".py",
   "mimetype": "text/x-python",
   "name": "python",
   "nbconvert_exporter": "python",
   "pygments_lexer": "ipython3",
   "version": "3.13.5"
  }
 },
 "nbformat": 4,
 "nbformat_minor": 5
}
